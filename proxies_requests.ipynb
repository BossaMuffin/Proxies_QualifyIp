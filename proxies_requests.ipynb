{
 "cells": [
  {
   "cell_type": "markdown",
   "metadata": {},
   "source": [
    "# Bossa Muffin Proxies Filter Program v1 - 24/04/2022 \n",
    "# With Requests modul"
   ]
  },
  {
   "cell_type": "markdown",
   "metadata": {},
   "source": [
    "## Import all moduls i need for this program"
   ]
  },
  {
   "cell_type": "code",
   "execution_count": null,
   "metadata": {},
   "outputs": [],
   "source": [
    "from typing import Dict\n",
    "from fake_useragent import UserAgent \n",
    "import time\n",
    "import requests\n",
    "import concurrent.futures\n",
    "import csv\n",
    "import pandas as pd"
   ]
  },
  {
   "cell_type": "markdown",
   "metadata": {},
   "source": [
    "## Define types"
   ]
  },
  {
   "cell_type": "code",
   "execution_count": null,
   "metadata": {},
   "outputs": [],
   "source": [
    "IpDict = Dict[int, str]"
   ]
  },
  {
   "cell_type": "markdown",
   "metadata": {},
   "source": [
    "## Define const and var"
   ]
  },
  {
   "cell_type": "code",
   "execution_count": null,
   "metadata": {},
   "outputs": [],
   "source": [
    "FILE_TO_TEST = \"proxies_list.csv\"\n",
    "GOOD_FILE = \"good_proxies_list.csv\"\n",
    "URL_TO_TEST_MY_IP = \"https://httpbin.org/ip\"\n",
    "IP_DEFAULT = \"0.0.0.0\"\n",
    "\n",
    "good_proxies = []\n",
    "bad_proxies = []"
   ]
  },
  {
   "cell_type": "code",
   "execution_count": null,
   "metadata": {},
   "outputs": [],
   "source": [
    "# Add a header giving a random user agent\n",
    "ua = UserAgent().random\n",
    "headers = {'user-agent': ua}"
   ]
  },
  {
   "cell_type": "code",
   "execution_count": null,
   "metadata": {},
   "outputs": [],
   "source": [
    "# Attend pour éviter le bagne\n",
    "#time.sleep(360)"
   ]
  },
  {
   "cell_type": "markdown",
   "metadata": {},
   "source": [
    "## Get my own IP "
   ]
  },
  {
   "cell_type": "code",
   "execution_count": null,
   "metadata": {},
   "outputs": [],
   "source": [
    "def testMyIp(url: str=URL_TO_TEST_MY_IP) -> IpDict:\n",
    "    \n",
    "    my_ip_status = {\n",
    "        'status_code': 0, \n",
    "        'ip': IP_DEFAULT\n",
    "    }\n",
    "    print(f\"\\nWe test my ip by : {url}\")\n",
    "    \n",
    "    try:\n",
    "        req = requests.get(url)\n",
    "        my_ip_status['status_code'] = req.status_code\n",
    "        my_ip_status['ip'] = req.json()['origin']\n",
    "        print(\"My ip : \", my_ip_status['ip'])\n",
    "        req.close()\n",
    "    \n",
    "    except:\n",
    "        print(\"!My ip : Failed to join the server!\")\n",
    "        pass\n",
    "    \n",
    "    return my_ip_status"
   ]
  },
  {
   "cell_type": "markdown",
   "metadata": {},
   "source": [
    "## Test a proxy IP by HTTP and HTTPS request"
   ]
  },
  {
   "cell_type": "code",
   "execution_count": null,
   "metadata": {},
   "outputs": [],
   "source": [
    "def testProxy(proxy_ip: str, proxy_port: str, proxy_time: str, url: str=URL_TO_TEST_MY_IP) -> IpDict:\n",
    "    \n",
    "    request_proxy_status = {\n",
    "        'status_code': 0, \n",
    "        'ip': IP_DEFAULT\n",
    "    }\n",
    "    proxy_to_test = proxy_ip + ':' + proxy_port\n",
    "    print(f\"\\nWe test this Proxy : {proxy_to_test}\")\n",
    "    \n",
    "    try:\n",
    "        req = requests.get(url, \n",
    "                           proxies={'http': proxy_to_test , 'https': proxy_to_test}, \n",
    "                           headers=headers, \n",
    "                           timeout=proxy_time\n",
    "                          )\n",
    "        r['status_code'] = req.status_code\n",
    "        r['ip'] = req.json()['origin']\n",
    "        req.close()\n",
    "    \n",
    "    except:\n",
    "        print(f\"\\n!Failed to join the proxy : {proxy_ip} on port : {proxy_port} by {url} \\n\")\n",
    "        pass\n",
    "    \n",
    "    return request_proxy_status"
   ]
  },
  {
   "cell_type": "markdown",
   "metadata": {},
   "source": [
    "## Verify that the proxy doesn't use my own IP address"
   ]
  },
  {
   "cell_type": "code",
   "execution_count": null,
   "metadata": {},
   "outputs": [],
   "source": [
    "# Test the test_proxy result comparing with test_my_ip\n",
    "def checkProxy(r_my_ip: IpDict, r_the_proxy: IpDict, proxy_ip: str) -> bool:\n",
    "    \n",
    "    proxy_is_reachable = False\n",
    "    \n",
    "    if r_the_proxy['status_code'] == 200:\n",
    "        print(f\"\\nTested proxy's ip : {proxy_ip}\")\n",
    "\n",
    "        if r_the_proxy['ip'] == r_my_ip['ip']:\n",
    "            print(\"There is a problem :\")\n",
    "            print(f\"Proxy tested ({r_the_proxy['ip']}) returns my ip ({r_my_ip['ip']}) !\")\n",
    "            \n",
    "        elif r_the_proxy['ip'] != proxy_ip:\n",
    "            print(\"There is a problem :\")\n",
    "            print(f\"Proxy: IP tested ({r_the_proxy['ip']}) and returned IP ({proxy_ip}) are different !\")\n",
    "            \n",
    "        elif r_the_proxy['ip'] != IP_DEFAULT:\n",
    "            proxy_is_reachable = True \n",
    "    \n",
    "    else:\n",
    "        print(f\"\\nStatus code of {proxy_ip}: {r_the_proxy['status_code']}\")\n",
    "              \n",
    "    return proxy_is_reachable"
   ]
  },
  {
   "cell_type": "markdown",
   "metadata": {},
   "source": [
    "## Test if proxies are listening and separate good and bad proxies"
   ]
  },
  {
   "cell_type": "code",
   "execution_count": null,
   "metadata": {},
   "outputs": [],
   "source": [
    "# Test, check and separate good and bad proxies\n",
    "my_ip = testMyIp()\n",
    "\n",
    "def extractProxy(proxy_param: dict):\n",
    "    \n",
    "    global good_proxies\n",
    "    global bad_proxies\n",
    "    the_proxy = testProxy(proxy_param['ip'], proxy_param['port'], proxy_param['timeout'])\n",
    "    \n",
    "    if checkProxy(my_ip, the_proxy, proxy_param['ip']):\n",
    "        good_proxies.append({\n",
    "            'ip': proxy_param['ip'], \n",
    "            'port': proxy_param['port'], \n",
    "            'timeout': proxy_param['timeout'], \n",
    "            'prot': proxy_param['prot'], \n",
    "            'code': the_proxy['status_code']\n",
    "        })\n",
    "        \n",
    "    else:\n",
    "        bad_proxies.append({\n",
    "            'ip': proxy_param['ip'], \n",
    "            'port': proxy_param['port'], \n",
    "            'timeout':proxy_param['timeout'], \n",
    "            'prot':proxy_param['prot'], \n",
    "            'code': the_proxy['status_code']\n",
    "        })"
   ]
  },
  {
   "cell_type": "markdown",
   "metadata": {},
   "source": [
    "## Extract proxies form csv file and map a proxies list to test"
   ]
  },
  {
   "cell_type": "code",
   "execution_count": null,
   "metadata": {},
   "outputs": [],
   "source": [
    "def strMsToIntS(str_ms: str)-> int:\n",
    "    \n",
    "    int_ms = int(str_ms.replace(\" ms\", \"\"))\n",
    "    int_s = 1.2 * (int_ms // 1000)\n",
    "    \n",
    "    return int_s"
   ]
  },
  {
   "cell_type": "code",
   "execution_count": null,
   "metadata": {},
   "outputs": [],
   "source": [
    "def extractProxyList(file=FILE_TO_TEST)-> list:\n",
    "    \n",
    "    proxy_row_from_csv = []\n",
    "    \n",
    "    with open(file, 'r') as f:\n",
    "        reader_f = csv.reader(f)\n",
    "        \n",
    "        for row in reader_f:\n",
    "            time_s = strMsToIntS(row[3])\n",
    "            proxy_row_from_csv.append({\n",
    "                'ip': row[0], \n",
    "                'port': row[1], \n",
    "                'timeout': time_s, \n",
    "                'prot': row[2]\n",
    "            })\n",
    "            \n",
    "    return proxy_row_from_csv"
   ]
  },
  {
   "cell_type": "markdown",
   "metadata": {},
   "source": [
    "## Test all proxies IP in a pool with asynchronous method "
   ]
  },
  {
   "cell_type": "code",
   "execution_count": null,
   "metadata": {},
   "outputs": [],
   "source": [
    "proxy_list = extractProxyList()\n",
    "with concurrent.futures.ThreadPoolExecutor() as executor:\n",
    "    executor.map(extractProxy, proxy_list)"
   ]
  },
  {
   "cell_type": "markdown",
   "metadata": {},
   "source": [
    "## Save good IP proxies in the GOOD_FILE.csv"
   ]
  },
  {
   "cell_type": "code",
   "execution_count": null,
   "metadata": {},
   "outputs": [],
   "source": [
    "print(f\"Proxy success : {good_proxies}\")\n",
    "print(f\"We get : {len(good_proxies)} working proxies\")\n",
    "\n",
    "bdd_results = pd.DataFrame(good_proxies, columns=['ip', 'port', 'timeout', 'prot'])\n",
    "bdd_results.to_csv(GOOD_FILE)\n",
    "\n",
    "print(f\"Proxy failed : {bad_proxies}\")\n",
    "print(f\"{len(bad_proxies)} don't work\")"
   ]
  },
  {
   "cell_type": "code",
   "execution_count": null,
   "metadata": {},
   "outputs": [],
   "source": []
  }
 ],
 "metadata": {
  "kernelspec": {
   "display_name": "Python 3",
   "language": "python",
   "name": "python3"
  },
  "language_info": {
   "codemirror_mode": {
    "name": "ipython",
    "version": 3
   },
   "file_extension": ".py",
   "mimetype": "text/x-python",
   "name": "python",
   "nbconvert_exporter": "python",
   "pygments_lexer": "ipython3",
   "version": "3.7.3"
  }
 },
 "nbformat": 4,
 "nbformat_minor": 2
}
